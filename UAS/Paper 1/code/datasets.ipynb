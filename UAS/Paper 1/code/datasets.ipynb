{
 "cells": [
  {
   "cell_type": "code",
   "execution_count": 1,
   "metadata": {},
   "outputs": [],
   "source": [
    "import torch\n",
    "import numpy as np\n",
    "from PIL import Image\n",
    "from torchvision import transforms"
   ]
  },
  {
   "cell_type": "code",
   "execution_count": 3,
   "metadata": {},
   "outputs": [],
   "source": [
    "class MnistDataset(torch.utils.data.Dataset):\n",
    "    def __init__(self, training=True, transform=None):\n",
    "        if training==True:\n",
    "            f = open('../data/raw/train-images-idx3-ubyte', 'rb')\n",
    "            xs = np.array(np.frombuffer(f.read(), np.uint8, offset=16))\n",
    "            f.close()\n",
    "            f = open('../data/raw/train-labels-idx1-ubyte', 'rb')\n",
    "            ys = np.array(np.frombuffer(f.read(), np.uint8, offset=8))\n",
    "            f.close()\n",
    "        else:\n",
    "            f = open('../data/raw/t10k-images-idx3-ubyte', 'rb')\n",
    "            xs = np.array(np.frombuffer(f.read(), np.uint8, offset=16))\n",
    "            f.close()\n",
    "            f = open('../data/raw/t10k-labels-idx1-ubyte', 'rb')\n",
    "            ys = np.array(np.frombuffer(f.read(), np.uint8, offset=8))\n",
    "            f.close()\n",
    "        xs = np.reshape(xs, (-1, 28, 28, 1)).astype(np.float32)\n",
    "        ys = ys.astype(np.int)\n",
    "        self.x_data = xs\n",
    "        self.y_data = ys\n",
    "        self.transform = transform\n",
    "\n",
    "    def __len__(self):\n",
    "        return len(self.x_data)\n",
    "\n",
    "    def __getitem__(self, idx):\n",
    "        x = Image.fromarray(self.x_data[idx].reshape(28, 28))\n",
    "        y = torch.tensor(np.array(self.y_data[idx]))\n",
    "        if self.transform:\n",
    "            x = self.transform(x)\n",
    "        x = transforms.ToTensor()(np.array(x)/255)\n",
    "        return x, y"
   ]
  }
 ],
 "metadata": {
  "interpreter": {
   "hash": "d9523a37af404a38faef25db205912ad6cb8132cdee7866946406cb826ddd44a"
  },
  "kernelspec": {
   "display_name": "Python 3.8.8 64-bit ('base': conda)",
   "language": "python",
   "name": "python3"
  },
  "language_info": {
   "codemirror_mode": {
    "name": "ipython",
    "version": 3
   },
   "file_extension": ".py",
   "mimetype": "text/x-python",
   "name": "python",
   "nbconvert_exporter": "python",
   "pygments_lexer": "ipython3",
   "version": "3.8.8"
  },
  "orig_nbformat": 4
 },
 "nbformat": 4,
 "nbformat_minor": 2
}
